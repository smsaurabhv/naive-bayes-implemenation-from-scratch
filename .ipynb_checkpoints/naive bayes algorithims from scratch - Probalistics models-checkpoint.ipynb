{
 "cells": [
  {
   "cell_type": "code",
   "execution_count": 1,
   "metadata": {},
   "outputs": [],
   "source": [
    "# naive bayes algorithims"
   ]
  },
  {
   "cell_type": "markdown",
   "metadata": {},
   "source": [
    "# naive bayes theorem\n",
    "It is a classification technique based on Bayes’ Theorem with an assumption of independence among predictors. In simple terms, a Naive Bayes classifier assumes that the presence of a particular feature in a class is unrelated to the presence of any other feature. For example, a fruit may be considered to be an apple if it is red, round, and about 3 inches in diameter. Even if these features depend on each other or upon the existence of the other features, all of these properties independently contribute to the probability that this fruit is an apple and that is why it is known as ‘Naive’.\n",
    "\n",
    "Naive Bayes model is easy to build and particularly useful for very large data sets. Along with simplicity, Naive Bayes is known to outperform even highly sophisticated classification methods.\n",
    "\n",
    "Bayes theorem provides a way of calculating posterior probability P(c|x) from P(c), P(x) and P(x|c). Look at the equation below:\n",
    "<img src=\"f.webp\">\n",
    "P(c|x) is the posterior probability of class (c, target) given predictor (x, attributes).<br/>\n",
    "P(c) is the prior probability of class.<br/>\n",
    "P(x|c) is the likelihood which is the probability of predictor given class.<br/>\n",
    "P(x) is the prior probability of predictor.<br/>"
   ]
  },
  {
   "cell_type": "code",
   "execution_count": 2,
   "metadata": {},
   "outputs": [],
   "source": [
    "import numpy as np"
   ]
  },
  {
   "cell_type": "code",
   "execution_count": 27,
   "metadata": {},
   "outputs": [],
   "source": [
    "datasets = np.array([\n",
    "    ['sunny','no'],\n",
    "    ['overcast','yes'],\n",
    "    ['rainy','yes'],\n",
    "    ['sunny','yes'],\n",
    "    ['sunny','yes'],\n",
    "    ['overcast','yes'],\n",
    "    ['rainy','no'],\n",
    "    ['rainy','no'],\n",
    "    ['sunny','yes'],\n",
    "    ['rainy','yes'],\n",
    "    ['sunny','no'],\n",
    "    ['overcast','yes'],\n",
    "    ['overcast','yes'],\n",
    "    ['rainy','no']\n",
    "])"
   ]
  },
  {
   "cell_type": "code",
   "execution_count": 28,
   "metadata": {},
   "outputs": [
    {
     "data": {
      "text/plain": [
       "array([['sunny', 'no'],\n",
       "       ['overcast', 'yes'],\n",
       "       ['rainy', 'yes'],\n",
       "       ['sunny', 'yes'],\n",
       "       ['sunny', 'yes'],\n",
       "       ['overcast', 'yes'],\n",
       "       ['rainy', 'no'],\n",
       "       ['rainy', 'no'],\n",
       "       ['sunny', 'yes'],\n",
       "       ['rainy', 'yes'],\n",
       "       ['sunny', 'no'],\n",
       "       ['overcast', 'yes'],\n",
       "       ['overcast', 'yes'],\n",
       "       ['rainy', 'no']], dtype='<U8')"
      ]
     },
     "execution_count": 28,
     "metadata": {},
     "output_type": "execute_result"
    }
   ],
   "source": [
    "datasets"
   ]
  },
  {
   "cell_type": "code",
   "execution_count": 29,
   "metadata": {},
   "outputs": [
    {
     "data": {
      "text/plain": [
       "(14, 2)"
      ]
     },
     "execution_count": 29,
     "metadata": {},
     "output_type": "execute_result"
    }
   ],
   "source": [
    "datasets.shape"
   ]
  },
  {
   "cell_type": "code",
   "execution_count": 30,
   "metadata": {},
   "outputs": [],
   "source": [
    "totaldata = datasets.shape[0]"
   ]
  },
  {
   "cell_type": "code",
   "execution_count": 31,
   "metadata": {},
   "outputs": [],
   "source": [
    "DICT ={}\n",
    "for i in datasets:\n",
    "    if i[1]==\"yes\":\n",
    "        try:\n",
    "            DICT[i[0]]=[DICT[i[0]][0],DICT[i[0]][1]+1]\n",
    "        except:\n",
    "            DICT[i[0]] = [0,1]\n",
    "    if i[1]==\"no\":\n",
    "        try:\n",
    "            DICT[i[0]]=[DICT[i[0]][0]+1,DICT[i[0]][1]]\n",
    "        except:\n",
    "            DICT[i[0]] = [1,0]"
   ]
  },
  {
   "cell_type": "code",
   "execution_count": 32,
   "metadata": {},
   "outputs": [
    {
     "data": {
      "text/plain": [
       "{'sunny': [2, 3], 'overcast': [0, 4], 'rainy': [3, 2]}"
      ]
     },
     "execution_count": 32,
     "metadata": {},
     "output_type": "execute_result"
    }
   ],
   "source": [
    "DICT_index ={\"yes\":1,\"no\":0}\n",
    "DICT"
   ]
  },
  {
   "cell_type": "code",
   "execution_count": 33,
   "metadata": {},
   "outputs": [],
   "source": [
    "# class prior probalities"
   ]
  },
  {
   "cell_type": "code",
   "execution_count": 34,
   "metadata": {},
   "outputs": [],
   "source": [
    "CLASS_PRIOR_PROBA = {}"
   ]
  },
  {
   "cell_type": "code",
   "execution_count": 73,
   "metadata": {},
   "outputs": [],
   "source": [
    "yescount =0\n",
    "nocount=0\n",
    "for k in DICT.keys():\n",
    "    CLASS_PRIOR_PROBA[k] = np.sum(DICT[k])/totaldata\n",
    "    yescount =yescount+ DICT[k][1]\n",
    "    nocount =nocount+ DICT[k][0]\n",
    "CLASS_PRIOR_PROBA['yes']=yescount/totaldata\n",
    "CLASS_PRIOR_PROBA['no']=nocount/totaldata"
   ]
  },
  {
   "cell_type": "code",
   "execution_count": 74,
   "metadata": {},
   "outputs": [
    {
     "data": {
      "text/plain": [
       "{'sunny': 0.35714285714285715,\n",
       " 'overcast': 0.2857142857142857,\n",
       " 'rainy': 0.35714285714285715,\n",
       " 'yes': 0.6428571428571429,\n",
       " 'no': 0.35714285714285715}"
      ]
     },
     "execution_count": 74,
     "metadata": {},
     "output_type": "execute_result"
    }
   ],
   "source": [
    "CLASS_PRIOR_PROBA"
   ]
  },
  {
   "cell_type": "code",
   "execution_count": 75,
   "metadata": {},
   "outputs": [],
   "source": [
    "# classify"
   ]
  },
  {
   "cell_type": "code",
   "execution_count": 76,
   "metadata": {},
   "outputs": [],
   "source": [
    "# problem statements"
   ]
  },
  {
   "cell_type": "code",
   "execution_count": 77,
   "metadata": {},
   "outputs": [],
   "source": [
    "# QUES --Players will play if weather is sunny. Is this statement is correct?"
   ]
  },
  {
   "cell_type": "code",
   "execution_count": 78,
   "metadata": {},
   "outputs": [],
   "source": [
    "# so we have to calculate the probalilityof(YES|SUNNY) AND probalilityof(NO|SUNNY)"
   ]
  },
  {
   "cell_type": "code",
   "execution_count": 109,
   "metadata": {},
   "outputs": [],
   "source": [
    "def posteriorproba(classes,features):\n",
    "    #print(DICT[features][DICT_index[classes]])\n",
    "    if classes==\"yes\":\n",
    "        return (DICT[features][DICT_index[classes]]/yescount)*(CLASS_PRIOR_PROBA[classes]/(CLASS_PRIOR_PROBA[features]))\n",
    "    if classes==\"no\":\n",
    "        return (DICT[features][DICT_index[classes]]/nocount)*(CLASS_PRIOR_PROBA[classes]/(CLASS_PRIOR_PROBA[features]))"
   ]
  },
  {
   "cell_type": "code",
   "execution_count": 110,
   "metadata": {},
   "outputs": [
    {
     "data": {
      "text/plain": [
       "0.6"
      ]
     },
     "execution_count": 110,
     "metadata": {},
     "output_type": "execute_result"
    }
   ],
   "source": [
    "posteriorproba(\"yes\",\"sunny\")"
   ]
  },
  {
   "cell_type": "code",
   "execution_count": 111,
   "metadata": {},
   "outputs": [
    {
     "data": {
      "text/plain": [
       "0.4"
      ]
     },
     "execution_count": 111,
     "metadata": {},
     "output_type": "execute_result"
    }
   ],
   "source": [
    "posteriorproba(\"no\",\"sunny\")"
   ]
  },
  {
   "cell_type": "code",
   "execution_count": 112,
   "metadata": {},
   "outputs": [
    {
     "data": {
      "text/plain": [
       "1.0000000000000002"
      ]
     },
     "execution_count": 112,
     "metadata": {},
     "output_type": "execute_result"
    }
   ],
   "source": [
    "posteriorproba(\"yes\",\"overcast\")"
   ]
  },
  {
   "cell_type": "code",
   "execution_count": 114,
   "metadata": {},
   "outputs": [
    {
     "data": {
      "text/plain": [
       "0.0"
      ]
     },
     "execution_count": 114,
     "metadata": {},
     "output_type": "execute_result"
    }
   ],
   "source": [
    "posteriorproba(\"no\",\"overcast\")"
   ]
  },
  {
   "cell_type": "code",
   "execution_count": 115,
   "metadata": {},
   "outputs": [
    {
     "data": {
      "text/plain": [
       "0.39999999999999997"
      ]
     },
     "execution_count": 115,
     "metadata": {},
     "output_type": "execute_result"
    }
   ],
   "source": [
    "posteriorproba(\"yes\",\"rainy\")"
   ]
  },
  {
   "cell_type": "code",
   "execution_count": 118,
   "metadata": {},
   "outputs": [
    {
     "data": {
      "text/plain": [
       "0.6"
      ]
     },
     "execution_count": 118,
     "metadata": {},
     "output_type": "execute_result"
    }
   ],
   "source": [
    "posteriorproba(\"no\",\"rainy\")"
   ]
  },
  {
   "cell_type": "code",
   "execution_count": 117,
   "metadata": {},
   "outputs": [],
   "source": [
    "# multi class problems"
   ]
  },
  {
   "cell_type": "code",
   "execution_count": 121,
   "metadata": {},
   "outputs": [],
   "source": [
    "datasets = np.array([\n",
    "['sunny','hot','high','weak','no'],\n",
    "['sunny','hot','high','strong','no'],\n",
    "['overcast','hot','high','weak','yes'],\n",
    "['rain','mild','high','weak','yes'],\n",
    "['rain','cool','normal','weak','yes'],\n",
    "['rain','cool','normal','strong','no'],\n",
    "['overcast','cool','normal','strong','yes'],\n",
    "['sunny','mild','high','weak','no'],\n",
    "['sunny','cool','normal','weak','yes'],\n",
    "['rain','mild','normal','weak','yes'],\n",
    "['sunny','mild','normal','strong','yes'],\n",
    "['overcast','mild','high','strong','yes'],\n",
    "['overcast','hot','normal','weak','yes'],\n",
    "['rain','mild','high','strong','no']]\n",
    ")"
   ]
  },
  {
   "cell_type": "code",
   "execution_count": 180,
   "metadata": {},
   "outputs": [
    {
     "name": "stdout",
     "output_type": "stream",
     "text": [
      "shape of datasets are(14, 5)\n"
     ]
    },
    {
     "data": {
      "text/plain": [
       "array([['sunny', 'hot', 'high', 'weak', 'no'],\n",
       "       ['sunny', 'hot', 'high', 'strong', 'no'],\n",
       "       ['overcast', 'hot', 'high', 'weak', 'yes'],\n",
       "       ['rain', 'mild', 'high', 'weak', 'yes'],\n",
       "       ['rain', 'cool', 'normal', 'weak', 'yes'],\n",
       "       ['rain', 'cool', 'normal', 'strong', 'no'],\n",
       "       ['overcast', 'cool', 'normal', 'strong', 'yes'],\n",
       "       ['sunny', 'mild', 'high', 'weak', 'no'],\n",
       "       ['sunny', 'cool', 'normal', 'weak', 'yes'],\n",
       "       ['rain', 'mild', 'normal', 'weak', 'yes'],\n",
       "       ['sunny', 'mild', 'normal', 'strong', 'yes'],\n",
       "       ['overcast', 'mild', 'high', 'strong', 'yes'],\n",
       "       ['overcast', 'hot', 'normal', 'weak', 'yes'],\n",
       "       ['rain', 'mild', 'high', 'strong', 'no']], dtype='<U8')"
      ]
     },
     "execution_count": 180,
     "metadata": {},
     "output_type": "execute_result"
    }
   ],
   "source": [
    "print('shape of datasets are'+str(datasets.shape))\n",
    "datasets"
   ]
  },
  {
   "cell_type": "code",
   "execution_count": 166,
   "metadata": {},
   "outputs": [],
   "source": [
    "DICT_INFORMATION={}\n",
    "def train(x_train,y_train):\n",
    "    classes =[]\n",
    "    for i in y_train:\n",
    "        try:\n",
    "            DICT_INFORMATION[str(i)+'-Y_TRAINCOUNT']+=1\n",
    "        except:\n",
    "            DICT_INFORMATION[str(i)+'-Y_TRAINCOUNT']=1\n",
    "        totalcases = y_train.shape[0]\n",
    "        DICT_INFORMATION['totalcases'] = totalcases\n",
    "        if i not in classes:\n",
    "            classes.append(i)\n",
    "    DICT_INFORMATION['classes'] =classes"
   ]
  },
  {
   "cell_type": "code",
   "execution_count": 167,
   "metadata": {},
   "outputs": [],
   "source": [
    "train(datasets[:,0:4],datasets[:,4])"
   ]
  },
  {
   "cell_type": "code",
   "execution_count": 168,
   "metadata": {},
   "outputs": [
    {
     "data": {
      "text/plain": [
       "{'no-Y_TRAINCOUNT': 5,\n",
       " 'totalcases': 14,\n",
       " 'yes-Y_TRAINCOUNT': 9,\n",
       " 'classes': ['no', 'yes']}"
      ]
     },
     "execution_count": 168,
     "metadata": {},
     "output_type": "execute_result"
    }
   ],
   "source": [
    "DICT_INFORMATION"
   ]
  },
  {
   "cell_type": "code",
   "execution_count": 182,
   "metadata": {},
   "outputs": [],
   "source": [
    "def likelihood(predictor,datasets,classes):\n",
    "    #getclasses = DICT_INFORMATION['classes']\n",
    "    countpredictor =0\n",
    "    for i in datasets:\n",
    "        if i[4]==classes:\n",
    "            for k in i[0:4]:\n",
    "                if k == predictor:\n",
    "                    countpredictor+=1\n",
    "    return countpredictor/DICT_INFORMATION[classes+'-Y_TRAINCOUNT']\n",
    "                    \n",
    "                "
   ]
  },
  {
   "cell_type": "code",
   "execution_count": 193,
   "metadata": {},
   "outputs": [],
   "source": [
    "def predict(classes,predictor):\n",
    "    proba = {}\n",
    "    totalprobalility =1\n",
    "    proba['classes'] = DICT_INFORMATION[classes+'-Y_TRAINCOUNT']/DICT_INFORMATION['totalcases']\n",
    "    for i in predictor:\n",
    "        #print(\"yes\")\n",
    "        proba[i] = likelihood(i,datasets,classes)\n",
    "    print(proba)\n",
    "    for probalility in proba.keys():\n",
    "        totalprobalility = totalprobalility*proba[probalility]\n",
    "    return totalprobalility"
   ]
  },
  {
   "cell_type": "code",
   "execution_count": 202,
   "metadata": {},
   "outputs": [
    {
     "name": "stdout",
     "output_type": "stream",
     "text": [
      "{'classes': 0.6428571428571429, 'sunny': 0.2222222222222222, 'cool': 0.3333333333333333, 'high': 0.3333333333333333, 'strong': 0.3333333333333333}\n",
      "{'classes': 0.35714285714285715, 'sunny': 0.6, 'cool': 0.2, 'high': 0.8, 'strong': 0.6}\n"
     ]
    }
   ],
   "source": [
    "yesproba=predict(\"yes\",['sunny','cool','high','strong'])\n",
    "noproba=predict(\"no\",['sunny','cool','high','strong'])"
   ]
  },
  {
   "cell_type": "code",
   "execution_count": 204,
   "metadata": {},
   "outputs": [
    {
     "data": {
      "text/plain": [
       "0.20458265139116202"
      ]
     },
     "execution_count": 204,
     "metadata": {},
     "output_type": "execute_result"
    }
   ],
   "source": [
    "yesproba/(yesproba+noproba) #probalility of yes is low"
   ]
  },
  {
   "cell_type": "code",
   "execution_count": 205,
   "metadata": {},
   "outputs": [
    {
     "data": {
      "text/plain": [
       "0.795417348608838"
      ]
     },
     "execution_count": 205,
     "metadata": {},
     "output_type": "execute_result"
    }
   ],
   "source": [
    "noproba/(yesproba+noproba) # probalility of no is high "
   ]
  },
  {
   "cell_type": "markdown",
   "metadata": {},
   "source": [
    "## The zero-frequency problem\n",
    "\n",
    "in the zero frequency problem if another class which is not in datasets are input its gives output zeros .for overcome this problem the Laplace smoothing and Laplace estimation are used"
   ]
  },
  {
   "cell_type": "code",
   "execution_count": 212,
   "metadata": {},
   "outputs": [
    {
     "name": "stdout",
     "output_type": "stream",
     "text": [
      "{'classes': 0.6428571428571429, 'sunny': 0.2222222222222222, 'cool': 0.3333333333333333, 'high': 0.3333333333333333, 'strong': 0.3333333333333333, 'storm': 0.0}\n"
     ]
    },
    {
     "data": {
      "text/plain": [
       "0.0"
      ]
     },
     "execution_count": 212,
     "metadata": {},
     "output_type": "execute_result"
    }
   ],
   "source": [
    "# zero frequency problems\n",
    "yesproba=predict(\"yes\",['sunny','cool','high','strong','storm'])\n",
    "yesproba/(yesproba+noproba) #probalility of yes is low"
   ]
  },
  {
   "cell_type": "code",
   "execution_count": 214,
   "metadata": {},
   "outputs": [],
   "source": [
    "# \"APPLY LAPLACIAN SMOOTHINGS\""
   ]
  },
  {
   "cell_type": "code",
   "execution_count": 223,
   "metadata": {},
   "outputs": [],
   "source": [
    "def laplacian_smoothing(count,k,N,classes):\n",
    "    return (count+k)/(N+k*classes)\n",
    "def likelihood_laplacian(predictor,datasets,classes):\n",
    "    #getclasses = DICT_INFORMATION['classes']\n",
    "    countpredictor =0\n",
    "    for i in datasets:\n",
    "        if i[4]==classes:\n",
    "            for k in i[0:4]:\n",
    "                if k == predictor:\n",
    "                    countpredictor+=1\n",
    "    return laplacian_smoothing(countpredictor,1,DICT_INFORMATION[classes+'-Y_TRAINCOUNT'],DICT_INFORMATION['totalcases'])\n",
    "def predict_laplacian(classes,predictor):\n",
    "    proba = {}\n",
    "    totalprobalility =1\n",
    "    proba['classes'] = laplacian_smoothing(DICT_INFORMATION[classes+'-Y_TRAINCOUNT'],1,DICT_INFORMATION['totalcases'],len(classes))\n",
    "    for i in predictor:\n",
    "        #print(\"yes\")\n",
    "        proba[i] = likelihood_laplacian(i,datasets,classes)\n",
    "    print(proba)\n",
    "    for probalility in proba.keys():\n",
    "        totalprobalility = totalprobalility*proba[probalility]\n",
    "    return totalprobalility"
   ]
  },
  {
   "cell_type": "code",
   "execution_count": 228,
   "metadata": {},
   "outputs": [
    {
     "name": "stdout",
     "output_type": "stream",
     "text": [
      "{'classes': 0.5882352941176471, 'sunny': 0.13043478260869565, 'cool': 0.17391304347826086, 'high': 0.17391304347826086, 'strong': 0.17391304347826086, 'storm': 0.043478260869565216}\n"
     ]
    },
    {
     "data": {
      "text/plain": [
       "0.0008522723130697668"
      ]
     },
     "execution_count": 228,
     "metadata": {},
     "output_type": "execute_result"
    }
   ],
   "source": [
    "yesproba=predict_laplacian(\"yes\",['sunny','cool','high','strong','storm'])\n",
    "yesproba/(yesproba+noproba) #probalility of yes is low"
   ]
  },
  {
   "cell_type": "code",
   "execution_count": 229,
   "metadata": {},
   "outputs": [
    {
     "name": "stdout",
     "output_type": "stream",
     "text": [
      "{'classes': 0.375, 'sunny': 0.21052631578947367, 'cool': 0.10526315789473684, 'high': 0.2631578947368421, 'strong': 0.21052631578947367, 'storm': 0.05263157894736842}\n"
     ]
    },
    {
     "data": {
      "text/plain": [
       "0.5799951847041668"
      ]
     },
     "execution_count": 229,
     "metadata": {},
     "output_type": "execute_result"
    }
   ],
   "source": [
    "noproba=predict_laplacian(\"no\",['sunny','cool','high','strong','storm'])\n",
    "noproba/(yesproba+noproba) #probalility of yes is low"
   ]
  },
  {
   "cell_type": "code",
   "execution_count": 230,
   "metadata": {},
   "outputs": [
    {
     "data": {
      "text/plain": [
       "0.4200048152958332"
      ]
     },
     "execution_count": 230,
     "metadata": {},
     "output_type": "execute_result"
    }
   ],
   "source": [
    "yesproba/(yesproba+noproba) #probalility of yes is low"
   ]
  },
  {
   "cell_type": "code",
   "execution_count": 231,
   "metadata": {},
   "outputs": [
    {
     "data": {
      "text/plain": [
       "0.5799951847041668"
      ]
     },
     "execution_count": 231,
     "metadata": {},
     "output_type": "execute_result"
    }
   ],
   "source": [
    "noproba/(yesproba+noproba) #probalility of no is high"
   ]
  },
  {
   "cell_type": "markdown",
   "metadata": {},
   "source": [
    "# APPLICATION OF NAIVE BAYES\n",
    "\n",
    "#### Real time Prediction:\n",
    "Naive Bayes is an eager learning classifier and it is sure fast. Thus, it could be used for making predictions in real time.\n",
    "#### Multi class Prediction:\n",
    "This algorithm is also well known for multi class prediction feature. Here we can predict the probability of multiple classes of target variable.\n",
    "#### Text classification/ Spam Filtering/ Sentiment Analysis: \n",
    "Naive Bayes classifiers mostly used in text classification (due to better result in multi class problems and independence rule) have higher success rate as compared to other algorithms. As a result, it is widely used in Spam filtering (identify spam e-mail) and Sentiment Analysis (in social media analysis, to identify positive and negative customer sentiments)\n",
    "#### Recommendation System: \n",
    "Naive Bayes Classifier and Collaborative Filtering together builds a Recommendation System that uses machine learning and data mining techniques to filter unseen information and predict whether a user would like a given resource or not"
   ]
  },
  {
   "cell_type": "code",
   "execution_count": null,
   "metadata": {},
   "outputs": [],
   "source": []
  }
 ],
 "metadata": {
  "kernelspec": {
   "display_name": "Python 3",
   "language": "python",
   "name": "python3"
  },
  "language_info": {
   "codemirror_mode": {
    "name": "ipython",
    "version": 3
   },
   "file_extension": ".py",
   "mimetype": "text/x-python",
   "name": "python",
   "nbconvert_exporter": "python",
   "pygments_lexer": "ipython3",
   "version": "3.6.4"
  }
 },
 "nbformat": 4,
 "nbformat_minor": 2
}
